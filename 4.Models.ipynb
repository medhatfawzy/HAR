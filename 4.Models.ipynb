{
 "cells": [
  {
   "cell_type": "markdown",
   "metadata": {},
   "source": [
    "## Libraries\n"
   ]
  },
  {
   "cell_type": "code",
   "execution_count": 1,
   "metadata": {},
   "outputs": [],
   "source": [
    "import numpy as np\n",
    "import pandas as pd\n",
    "import matplotlib.pyplot as plt\n",
    "import seaborn as sns\n",
    "import warnings\n",
    "\n",
    "from datetime import datetime\n",
    "\n",
    "from sklearn.preprocessing import LabelEncoder, StandardScaler\n",
    "from sklearn.metrics import (\n",
    "    confusion_matrix,\n",
    "    classification_report,\n",
    "    accuracy_score,\n",
    "    f1_score,\n",
    ")\n",
    "from sklearn.exceptions import ConvergenceWarning\n",
    "from sklearn.feature_selection import RFE, VarianceThreshold\n",
    "from sklearn.model_selection import train_test_split, GridSearchCV\n",
    "from sklearn.decomposition import PCA\n",
    "from sklearn.linear_model import LogisticRegression\n",
    "from sklearn.ensemble import RandomForestClassifier\n",
    "from sklearn.svm import LinearSVC\n",
    "\n",
    "from keras.models import Sequential\n",
    "from keras.layers import Dense, Dropout\n",
    "from scikeras.wrappers import KerasClassifier"
   ]
  },
  {
   "cell_type": "code",
   "execution_count": 2,
   "metadata": {},
   "outputs": [],
   "source": [
    "sns.set(style=\"whitegrid\")\n",
    "\n",
    "pd.set_option(\"display.max_columns\", None)\n",
    "warnings.filterwarnings(\"ignore\")\n",
    "warnings.simplefilter(action=\"ignore\", category=ConvergenceWarning)"
   ]
  },
  {
   "cell_type": "markdown",
   "metadata": {},
   "source": [
    "## Data Import\n"
   ]
  },
  {
   "cell_type": "code",
   "execution_count": 3,
   "metadata": {},
   "outputs": [],
   "source": [
    "train = pd.read_parquet(\"data/train_data.parquet\", engine=\"fastparquet\")\n",
    "test = pd.read_parquet(\"data/test_data.parquet\", engine=\"fastparquet\")"
   ]
  },
  {
   "cell_type": "code",
   "execution_count": 4,
   "metadata": {},
   "outputs": [],
   "source": [
    "X_train_sample, _, y_train_sample, _ = train_test_split(\n",
    "    train.iloc[:, :-2],\n",
    "    train.iloc[:, -1:],\n",
    "    test_size=0.80,\n",
    "    random_state=42,\n",
    "    stratify=train.iloc[:, -1:],\n",
    ")\n",
    "X_test_sample, _, y_test_sample, _ = train_test_split(\n",
    "    test.iloc[:, :-2],\n",
    "    test.iloc[:, -1:],\n",
    "    test_size=0.80,\n",
    "    random_state=42,\n",
    "    stratify=test.iloc[:, -1:],\n",
    ")"
   ]
  },
  {
   "cell_type": "markdown",
   "metadata": {},
   "source": [
    "## Functions\n"
   ]
  },
  {
   "cell_type": "code",
   "execution_count": 5,
   "metadata": {},
   "outputs": [],
   "source": [
    "def plot_cm(cm, classes, title=\"Confusion Matrix\", normalize=False):\n",
    "    \"\"\"Plots the confusion matrix as heatmap\n",
    "\n",
    "    Parameters\n",
    "    ----------\n",
    "    cm : np.ndarray\n",
    "        Confusion matrix\n",
    "    classes : List[str]\n",
    "        array of class labels\n",
    "    title : str, optional\n",
    "        Title of the heatmap, by default \"Confusion Matrix\"\n",
    "    normalize : bool, optional\n",
    "        If True, normalizes the confusion matrix, by default False\n",
    "\n",
    "    Returns\n",
    "    -------\n",
    "    \"\"\"\n",
    "    if normalize:\n",
    "        cm = cm.astype(\"float\") / cm.sum(axis=1)[:, np.newaxis]\n",
    "\n",
    "    fmt = \".3f\" if normalize else \"g\"\n",
    "    sns.heatmap(\n",
    "        cm,\n",
    "        annot=True,\n",
    "        cmap=\"BuPu\",\n",
    "        fmt=fmt,\n",
    "        xticklabels=classes,\n",
    "        yticklabels=classes,\n",
    "    )\n",
    "    plt.title(title)\n",
    "    plt.xlabel(\"Predicted Label\")\n",
    "    plt.ylabel(\"True Label\")\n",
    "    plt.setp(plt.gca().get_xticklabels(), rotation=45, ha=\"right\")\n",
    "    plt.show()\n",
    "\n",
    "    return cm"
   ]
  },
  {
   "cell_type": "code",
   "execution_count": 6,
   "metadata": {},
   "outputs": [],
   "source": [
    "def perform_model(\n",
    "    model,\n",
    "    X_train,\n",
    "    y_train,\n",
    "    X_test,\n",
    "    y_test,\n",
    "    classes,\n",
    "    _plot_cm=False,\n",
    "    _print_cr=False,\n",
    "    _cm_normalize=True,\n",
    "):\n",
    "    \"\"\"Performs the following steps in sequence\n",
    "    1. Trains the model\n",
    "    2. Predicts the test data\n",
    "    3. Calculates the accuracy score\n",
    "    4. Plots the confusion matrix\n",
    "    5. Prints the classification report\n",
    "\n",
    "    Parameters\n",
    "    ----------\n",
    "    model : estimator object\n",
    "        The object to use to fit the data.\n",
    "    X_train : ArrayLike\n",
    "        Training data\n",
    "    y_train : ArrayLike\n",
    "        True labels for X_train\n",
    "    X_test : ArrayLike\n",
    "        Testing data\n",
    "    y_test : ArrayLike\n",
    "        True labels for X_test\n",
    "    classes : List[str]\n",
    "        array of class labels\n",
    "    cm_normalize : bool, optional\n",
    "        If True, normalizes the confusion matrix, by default True\n",
    "    print_cr : bool, optional\n",
    "        If True, prints the classification report, by default False\n",
    "\n",
    "    Returns\n",
    "    -------\n",
    "    res : dict\n",
    "        Dictionary containing the results of the model\n",
    "    \"\"\"\n",
    "    res = {}\n",
    "\n",
    "    start_time = datetime.now()\n",
    "    model.fit(X_train, y_train)\n",
    "    res[\"train_time\"] = datetime.now() - start_time\n",
    "    print(f\"==> Train time:- {res['train_time']}\")\n",
    "\n",
    "    start_time = datetime.now()\n",
    "    y_pred = model.predict(X_test)\n",
    "    res[\"test_time\"] = datetime.now() - start_time\n",
    "    print(f\"==> Test time:- {res['test_time']}\")\n",
    "    res[\"predicted\"] = y_pred\n",
    "\n",
    "    accuracy = accuracy_score(y_true=y_test, y_pred=y_pred)\n",
    "    res[\"accuracy\"] = accuracy\n",
    "    print(f\"==> Accuracy:- {accuracy}\")\n",
    "    f1 = f1_score(y_true=y_test, y_pred=y_pred, average=\"weighted\")\n",
    "    res[\"f1_score\"] = f1\n",
    "    print(f\"==> F1 Score:- {f1}\")\n",
    "\n",
    "    cm = confusion_matrix(y_test, y_pred)\n",
    "    res[\"confusion_matrix\"] = cm\n",
    "    if _plot_cm:\n",
    "        plot_cm(cm, classes, normalize=_cm_normalize)\n",
    "\n",
    "    cr = classification_report(y_test, y_pred)\n",
    "    res[\"classification_report\"] = cr\n",
    "    if _print_cr:\n",
    "        print(\"Classification Report\")\n",
    "        print(cr)\n",
    "\n",
    "    res[\"model\"] = model\n",
    "\n",
    "    return res"
   ]
  },
  {
   "cell_type": "code",
   "execution_count": 7,
   "metadata": {},
   "outputs": [],
   "source": [
    "def print_grid_search_attributes(model):\n",
    "    \"\"\"Prints the GridSearch attributes of the model\n",
    "\n",
    "    Parameters\n",
    "    ----------\n",
    "    model : estimator object\n",
    "    \"\"\"\n",
    "    print(\"==> Best parameters:\")\n",
    "    print(f\"\\tParameters of best estimator : {model.best_params_}\")\n",
    "    print(\"==> No. of CrossValidation sets:\")\n",
    "    print(f\"\\tTotal number of cross validation sets: {model.n_splits_}\")\n",
    "    print(\"==> Best Score:\")\n",
    "    print(f\"\\tAverage Cross Validate scores of best estimator : {model.best_score_}\")"
   ]
  },
  {
   "cell_type": "markdown",
   "metadata": {},
   "source": [
    "## Data Preperation\n"
   ]
  },
  {
   "cell_type": "code",
   "execution_count": 8,
   "metadata": {},
   "outputs": [],
   "source": [
    "X_train, y_train = train.iloc[:, :-2], train.iloc[:, -1:]\n",
    "X_test, y_test = test.iloc[:, :-2], test.iloc[:, -1:]\n",
    "\n",
    "labels = train[\"activity\"].unique()\n",
    "activities_encoder = LabelEncoder()\n",
    "y_train = activities_encoder.fit_transform(y_train)\n",
    "y_test = activities_encoder.transform(y_test)"
   ]
  },
  {
   "cell_type": "markdown",
   "metadata": {},
   "source": [
    "PCA\n"
   ]
  },
  {
   "cell_type": "code",
   "execution_count": 35,
   "metadata": {},
   "outputs": [],
   "source": [
    "pca = PCA(n_components=170)\n",
    "X_train_lr_pca = pca.fit_transform(X_train)\n",
    "X_test_lr_pca = pca.transform(X_test)"
   ]
  },
  {
   "cell_type": "code",
   "execution_count": 40,
   "metadata": {},
   "outputs": [],
   "source": [
    "pca = PCA(n_components=70)\n",
    "X_train_rf_pca = pca.fit_transform(X_train)\n",
    "X_test_rf_pca = pca.transform(X_test)"
   ]
  },
  {
   "cell_type": "code",
   "execution_count": 46,
   "metadata": {},
   "outputs": [],
   "source": [
    "pca = PCA(n_components=200)\n",
    "X_train_svc_pca = pca.fit_transform(X_train)\n",
    "X_test_svc_pca = pca.transform(X_test)"
   ]
  },
  {
   "cell_type": "markdown",
   "metadata": {},
   "source": [
    "RFE\n"
   ]
  },
  {
   "cell_type": "code",
   "execution_count": 122,
   "metadata": {},
   "outputs": [],
   "source": [
    "rfe = RFE(LogisticRegression(), step=10, n_features_to_select=360)\n",
    "rfe.fit(X_train, y_train)\n",
    "lr_selected_features = X_train.columns[rfe.support_]"
   ]
  },
  {
   "cell_type": "code",
   "execution_count": 9,
   "metadata": {},
   "outputs": [],
   "source": [
    "rfe = RFE(RandomForestClassifier(), step=50, n_features_to_select=360)\n",
    "rfe.fit(X_train, y_train)\n",
    "rf_selected_features = X_train.columns[rfe.support_]"
   ]
  },
  {
   "cell_type": "code",
   "execution_count": null,
   "metadata": {},
   "outputs": [],
   "source": [
    "rfe = RFE(LinearSVC(), step=10, n_features_to_select=70)\n",
    "rfe.fit(X_train, y_train)\n",
    "svc_selected_features = X_train.columns[rfe.support_]"
   ]
  },
  {
   "cell_type": "markdown",
   "metadata": {},
   "source": [
    "VT\n"
   ]
  },
  {
   "cell_type": "code",
   "execution_count": 26,
   "metadata": {},
   "outputs": [],
   "source": [
    "vt = VarianceThreshold(threshold=0.03)\n",
    "vt.fit(X_train)\n",
    "X_train_vt = vt.transform(X_train)\n",
    "X_test_vt = vt.transform(X_test)"
   ]
  },
  {
   "cell_type": "markdown",
   "metadata": {},
   "source": [
    "PCA + RFE\n"
   ]
  },
  {
   "cell_type": "code",
   "execution_count": null,
   "metadata": {},
   "outputs": [],
   "source": [
    "pca = PCA(n_components=95)\n",
    "X_train_lr_rfepca = pca.fit_transform(X_train[lr_selected_features])\n",
    "X_test_lr_rfepca = pca.transform(X_test[lr_selected_features])"
   ]
  },
  {
   "cell_type": "code",
   "execution_count": null,
   "metadata": {},
   "outputs": [],
   "source": [
    "pca = PCA(n_components=65)\n",
    "X_train_rf_rfepca = pca.fit_transform(X_train[svc_selected_features])\n",
    "X_test_rf_rfepca = pca.transform(X_test[svc_selected_features])"
   ]
  },
  {
   "cell_type": "code",
   "execution_count": 30,
   "metadata": {},
   "outputs": [],
   "source": [
    "pca = PCA(n_components=45)\n",
    "X_train_svc_rfepca = pca.fit_transform(X_train[svc_selected_features])\n",
    "X_test_svc_rfepca = pca.transform(X_test[svc_selected_features])"
   ]
  },
  {
   "cell_type": "markdown",
   "metadata": {},
   "source": [
    "## Models\n"
   ]
  },
  {
   "cell_type": "markdown",
   "metadata": {},
   "source": [
    "### Logistic Regression\n"
   ]
  },
  {
   "cell_type": "code",
   "execution_count": 59,
   "metadata": {},
   "outputs": [],
   "source": [
    "lr_parameters = {\"C\": [0.1, 0.25, 0.5, 1, 10, 20, 30], \"penalty\": [\"l2\", \"l1\"]}"
   ]
  },
  {
   "cell_type": "markdown",
   "metadata": {},
   "source": [
    "Base\n"
   ]
  },
  {
   "cell_type": "code",
   "execution_count": 60,
   "metadata": {},
   "outputs": [
    {
     "name": "stdout",
     "output_type": "stream",
     "text": [
      "Fitting 3 folds for each of 14 candidates, totalling 42 fits\n",
      "==> Train time:- 0:00:13.321240\n",
      "==> Test time:- 0:00:00.012000\n",
      "==> Accuracy:- 0.9582626399728538\n",
      "==> F1 Score:- 0.9581227725191673\n",
      "==> Best parameters:\n",
      "\tParameters of best estimator : {'C': 1, 'penalty': 'l2'}\n",
      "==> No. of CrossValidation sets:\n",
      "\tTotal number of cross validation sets: 3\n",
      "==> Best Score:\n",
      "\tAverage Cross Validate scores of best estimator : 0.9371615639319785\n"
     ]
    }
   ],
   "source": [
    "lr_grid = GridSearchCV(\n",
    "    LogisticRegression(), param_grid=lr_parameters, cv=3, verbose=1, n_jobs=-1\n",
    ")\n",
    "lr_grid_results = perform_model(\n",
    "    lr_grid,\n",
    "    X_train,\n",
    "    y_train,\n",
    "    X_test,\n",
    "    y_test,\n",
    "    classes=labels,\n",
    "    _cm_normalize=True,\n",
    ")\n",
    "\n",
    "print_grid_search_attributes(lr_grid_results[\"model\"])"
   ]
  },
  {
   "cell_type": "markdown",
   "metadata": {},
   "source": [
    "w/ RFE selection\n"
   ]
  },
  {
   "cell_type": "code",
   "execution_count": 61,
   "metadata": {},
   "outputs": [
    {
     "name": "stdout",
     "output_type": "stream",
     "text": [
      "Fitting 3 folds for each of 14 candidates, totalling 42 fits\n",
      "==> Train time:- 0:00:05.846167\n",
      "==> Test time:- 0:00:00.004998\n",
      "==> Accuracy:- 0.9626739056667798\n",
      "==> F1 Score:- 0.9625629617160016\n",
      "==> Best parameters:\n",
      "\tParameters of best estimator : {'C': 10, 'penalty': 'l2'}\n",
      "==> No. of CrossValidation sets:\n",
      "\tTotal number of cross validation sets: 3\n",
      "==> Best Score:\n",
      "\tAverage Cross Validate scores of best estimator : 0.945594606671718\n"
     ]
    }
   ],
   "source": [
    "rfe_lr_grid = GridSearchCV(\n",
    "    LogisticRegression(), param_grid=lr_parameters, cv=3, verbose=1, n_jobs=-1\n",
    ")\n",
    "rfe_lr_grid_results = perform_model(\n",
    "    rfe_lr_grid,\n",
    "    X_train[lr_selected_features],\n",
    "    y_train,\n",
    "    X_test[lr_selected_features],\n",
    "    y_test,\n",
    "    classes=labels,\n",
    "    _cm_normalize=True,\n",
    ")\n",
    "\n",
    "print_grid_search_attributes(rfe_lr_grid_results[\"model\"])"
   ]
  },
  {
   "cell_type": "markdown",
   "metadata": {},
   "source": [
    "w/ VT\n"
   ]
  },
  {
   "cell_type": "code",
   "execution_count": 62,
   "metadata": {},
   "outputs": [
    {
     "name": "stdout",
     "output_type": "stream",
     "text": [
      "Fitting 3 folds for each of 14 candidates, totalling 42 fits\n",
      "==> Train time:- 0:00:07.755368\n",
      "==> Test time:- 0:00:00.006999\n",
      "==> Accuracy:- 0.9613165931455717\n",
      "==> F1 Score:- 0.9611765321908495\n",
      "==> Best parameters:\n",
      "\tParameters of best estimator : {'C': 1, 'penalty': 'l2'}\n",
      "==> No. of CrossValidation sets:\n",
      "\tTotal number of cross validation sets: 3\n",
      "==> Best Score:\n",
      "\tAverage Cross Validate scores of best estimator : 0.939609988426215\n"
     ]
    }
   ],
   "source": [
    "vt_lr_grid = GridSearchCV(\n",
    "    LogisticRegression(), param_grid=lr_parameters, cv=3, verbose=1, n_jobs=-1\n",
    ")\n",
    "vt_lr_grid_results = perform_model(\n",
    "    vt_lr_grid,\n",
    "    X_train_vt,\n",
    "    y_train,\n",
    "    X_test_vt,\n",
    "    y_test,\n",
    "    classes=labels,\n",
    "    _cm_normalize=True,\n",
    ")\n",
    "\n",
    "print_grid_search_attributes(vt_lr_grid_results[\"model\"])"
   ]
  },
  {
   "cell_type": "markdown",
   "metadata": {},
   "source": [
    "w/ PCA\n"
   ]
  },
  {
   "cell_type": "code",
   "execution_count": 63,
   "metadata": {},
   "outputs": [
    {
     "name": "stdout",
     "output_type": "stream",
     "text": [
      "Fitting 3 folds for each of 14 candidates, totalling 42 fits\n",
      "==> Train time:- 0:00:03.421085\n",
      "==> Test time:- 0:00:00.003000\n",
      "==> Accuracy:- 0.9599592806243638\n",
      "==> F1 Score:- 0.9598133736274128\n",
      "==> Best parameters:\n",
      "\tParameters of best estimator : {'C': 20, 'penalty': 'l2'}\n",
      "==> No. of CrossValidation sets:\n",
      "\tTotal number of cross validation sets: 3\n",
      "==> Best Score:\n",
      "\tAverage Cross Validate scores of best estimator : 0.9390663813465002\n"
     ]
    }
   ],
   "source": [
    "pca_lr_grid = GridSearchCV(\n",
    "    LogisticRegression(), param_grid=lr_parameters, cv=3, verbose=1, n_jobs=-1\n",
    ")\n",
    "pca_lr_grid_results = perform_model(\n",
    "    pca_lr_grid,\n",
    "    X_train_lr_pca,\n",
    "    y_train,\n",
    "    X_test_lr_pca,\n",
    "    y_test,\n",
    "    classes=labels,\n",
    "    _cm_normalize=True,\n",
    ")\n",
    "\n",
    "print_grid_search_attributes(pca_lr_grid_results[\"model\"])"
   ]
  },
  {
   "cell_type": "markdown",
   "metadata": {},
   "source": [
    "w/ RFE + PCA\n"
   ]
  },
  {
   "cell_type": "code",
   "execution_count": null,
   "metadata": {},
   "outputs": [
    {
     "name": "stdout",
     "output_type": "stream",
     "text": [
      "Fitting 3 folds for each of 14 candidates, totalling 42 fits\n",
      "==> Train time:- 0:00:02.676824\n",
      "==> Test time:- 0:00:00.002999\n",
      "==> Accuracy:- 0.9572446555819477\n",
      "==> F1 Score:- 0.9571164895002116\n",
      "==> Best parameters:\n",
      "\tParameters of best estimator : {'C': 1, 'penalty': 'l2'}\n",
      "==> No. of CrossValidation sets:\n",
      "\tTotal number of cross validation sets: 3\n",
      "==> Best Score:\n",
      "\tAverage Cross Validate scores of best estimator : 0.9442342289833109\n"
     ]
    }
   ],
   "source": [
    "rfepca_lr_grid = GridSearchCV(\n",
    "    LogisticRegression(), param_grid=lr_parameters, cv=3, verbose=1, n_jobs=-1\n",
    ")\n",
    "rfepca_lr_grid_results = perform_model(\n",
    "    rfepca_lr_grid,\n",
    "    X_train_lr_rfepca,\n",
    "    y_train,\n",
    "    X_test_lr_rfepca,\n",
    "    y_test,\n",
    "    classes=labels,\n",
    "    _cm_normalize=True,\n",
    "    _plot_cm=True,\n",
    ")\n",
    "\n",
    "print_grid_search_attributes(rfepca_lr_grid_results[\"model\"])"
   ]
  },
  {
   "cell_type": "markdown",
   "metadata": {},
   "source": [
    "### Random Forest Classifier\n"
   ]
  },
  {
   "cell_type": "code",
   "execution_count": null,
   "metadata": {},
   "outputs": [],
   "source": [
    "rf_parameters = {\n",
    "    \"n_estimators\": np.arange(50, 150, 20),\n",
    "    \"max_depth\": np.arange(5, 9, 2),\n",
    "}"
   ]
  },
  {
   "cell_type": "code",
   "execution_count": 66,
   "metadata": {},
   "outputs": [
    {
     "name": "stdout",
     "output_type": "stream",
     "text": [
      "Fitting 3 folds for each of 10 candidates, totalling 30 fits\n",
      "==> Train time:- 0:00:46.443323\n",
      "==> Test time:- 0:00:00.027002\n",
      "==> Accuracy:- 0.9151679674244995\n",
      "==> F1 Score:- 0.9146288126750833\n",
      "==> Best parameters:\n",
      "\tParameters of best estimator : {'max_depth': 7, 'n_estimators': 70}\n",
      "==> No. of CrossValidation sets:\n",
      "\tTotal number of cross validation sets: 3\n",
      "==> Best Score:\n",
      "\tAverage Cross Validate scores of best estimator : 0.9141736955900271\n"
     ]
    }
   ],
   "source": [
    "rf_grid = GridSearchCV(\n",
    "    RandomForestClassifier(), param_grid=rf_parameters, cv=3, verbose=1, n_jobs=-1\n",
    ")\n",
    "rf_grid_results = perform_model(\n",
    "    rf_grid,\n",
    "    X_train,\n",
    "    y_train,\n",
    "    X_test,\n",
    "    y_test,\n",
    "    classes=labels,\n",
    "    _cm_normalize=True,\n",
    ")\n",
    "\n",
    "print_grid_search_attributes(rf_grid_results[\"model\"])"
   ]
  },
  {
   "cell_type": "markdown",
   "metadata": {},
   "source": [
    "RFE\n"
   ]
  },
  {
   "cell_type": "code",
   "execution_count": null,
   "metadata": {},
   "outputs": [],
   "source": [
    "rfe_rf_grid = GridSearchCV(\n",
    "    RandomForestClassifier(), param_grid=rf_parameters, cv=3, verbose=1, n_jobs=-1\n",
    ")\n",
    "rfe_rf_grid_results = perform_model(\n",
    "    rfe_rf_grid,\n",
    "    X_train[rf_selected_features],\n",
    "    y_train,\n",
    "    X_test[rf_selected_features],\n",
    "    y_test,\n",
    "    classes=labels,\n",
    "    _cm_normalize=True,\n",
    "    _plot_cm=True,\n",
    ")\n",
    "\n",
    "print_grid_search_attributes(rfe_rf_grid_results[\"model\"])"
   ]
  },
  {
   "cell_type": "markdown",
   "metadata": {},
   "source": [
    "PCA\n"
   ]
  },
  {
   "cell_type": "code",
   "execution_count": 68,
   "metadata": {},
   "outputs": [
    {
     "name": "stdout",
     "output_type": "stream",
     "text": [
      "Fitting 3 folds for each of 10 candidates, totalling 30 fits\n"
     ]
    },
    {
     "name": "stdout",
     "output_type": "stream",
     "text": [
      "==> Train time:- 0:00:20.985360\n",
      "==> Test time:- 0:00:00.039030\n",
      "==> Accuracy:- 0.8724126230064473\n",
      "==> F1 Score:- 0.8715556907372564\n",
      "==> Best parameters:\n",
      "\tParameters of best estimator : {'max_depth': 7, 'n_estimators': 110}\n",
      "==> No. of CrossValidation sets:\n",
      "\tTotal number of cross validation sets: 3\n",
      "==> Best Score:\n",
      "\tAverage Cross Validate scores of best estimator : 0.85609533246183\n"
     ]
    }
   ],
   "source": [
    "pca_rf_grid = GridSearchCV(\n",
    "    RandomForestClassifier(), param_grid=rf_parameters, cv=3, verbose=1, n_jobs=-1\n",
    ")\n",
    "pca_rf_grid_results = perform_model(\n",
    "    pca_rf_grid,\n",
    "    X_train_rf_pca,\n",
    "    y_train,\n",
    "    X_test_rf_pca,\n",
    "    y_test,\n",
    "    classes=labels,\n",
    "    _cm_normalize=True,\n",
    ")\n",
    "\n",
    "print_grid_search_attributes(pca_rf_grid_results[\"model\"])"
   ]
  },
  {
   "cell_type": "markdown",
   "metadata": {},
   "source": [
    "VT\n"
   ]
  },
  {
   "cell_type": "code",
   "execution_count": null,
   "metadata": {},
   "outputs": [
    {
     "name": "stdout",
     "output_type": "stream",
     "text": [
      "Fitting 3 folds for each of 10 candidates, totalling 30 fits\n",
      "==> Train time:- 0:00:44.240814\n",
      "==> Test time:- 0:00:00.038998\n",
      "==> Accuracy:- 0.9070240922972514\n",
      "==> F1 Score:- 0.9066440038448509\n",
      "==> Best parameters:\n",
      "\tParameters of best estimator : {'max_depth': 7, 'n_estimators': 110}\n",
      "==> No. of CrossValidation sets:\n",
      "\tTotal number of cross validation sets: 3\n",
      "==> Best Score:\n",
      "\tAverage Cross Validate scores of best estimator : 0.9095483448377312\n"
     ]
    }
   ],
   "source": [
    "vt_rf_grid = GridSearchCV(\n",
    "    RandomForestClassifier(), param_grid=rf_parameters, cv=3, verbose=1, n_jobs=-1\n",
    ")\n",
    "vt_rf_grid_results = perform_model(\n",
    "    vt_rf_grid,\n",
    "    X_train_vt,\n",
    "    y_train,\n",
    "    X_test_vt,\n",
    "    y_test,\n",
    "    classes=labels,\n",
    "    _cm_normalize=True,\n",
    ")\n",
    "\n",
    "print_grid_search_attributes(vt_rf_grid_results[\"model\"])"
   ]
  },
  {
   "cell_type": "markdown",
   "metadata": {},
   "source": [
    "RFE+PCA\n"
   ]
  },
  {
   "cell_type": "code",
   "execution_count": 70,
   "metadata": {},
   "outputs": [],
   "source": [
    "rfepca_rf_grid = GridSearchCV(\n",
    "    RandomForestClassifier(), param_grid=rf_parameters, cv=3, verbose=1, n_jobs=-1\n",
    ")\n",
    "rfepca_rf_grid_results = perform_model(\n",
    "    rfepca_rf_grid,\n",
    "    X_train_rfepca,\n",
    "    y_train,\n",
    "    X_test_rfepca,\n",
    "    y_test,\n",
    "    classes=labels,\n",
    "    _cm_normalize=True,\n",
    "    _plot_cm=True,\n",
    ")\n",
    "\n",
    "print_grid_search_attributes(rfepca_rf_grid_results[\"model\"])"
   ]
  },
  {
   "cell_type": "markdown",
   "metadata": {},
   "source": [
    "### Linear SVC\n"
   ]
  },
  {
   "cell_type": "code",
   "execution_count": 71,
   "metadata": {},
   "outputs": [],
   "source": [
    "svc_parameters = {\"C\": [0.125, 0.5, 1, 2, 4], \"penalty\": [\"l2\", \"l1\"]}"
   ]
  },
  {
   "cell_type": "markdown",
   "metadata": {},
   "source": [
    "base\n"
   ]
  },
  {
   "cell_type": "code",
   "execution_count": 72,
   "metadata": {},
   "outputs": [
    {
     "name": "stdout",
     "output_type": "stream",
     "text": [
      "Fitting 3 folds for each of 10 candidates, totalling 30 fits\n"
     ]
    },
    {
     "name": "stdout",
     "output_type": "stream",
     "text": [
      "==> Train time:- 0:00:18.410877\n",
      "==> Test time:- 0:00:00.007002\n",
      "==> Accuracy:- 0.9670851713607058\n",
      "==> F1 Score:- 0.9669065174364727\n",
      "==> Best parameters:\n",
      "\tParameters of best estimator : {'C': 1, 'penalty': 'l2'}\n",
      "==> No. of CrossValidation sets:\n",
      "\tTotal number of cross validation sets: 3\n",
      "==> Best Score:\n",
      "\tAverage Cross Validate scores of best estimator : 0.9470918714282939\n"
     ]
    }
   ],
   "source": [
    "svc_grid = GridSearchCV(\n",
    "    LinearSVC(), param_grid=svc_parameters, cv=3, verbose=1, n_jobs=-1\n",
    ")\n",
    "svc_grid_results = perform_model(\n",
    "    svc_grid,\n",
    "    X_train,\n",
    "    y_train,\n",
    "    X_test,\n",
    "    y_test,\n",
    "    classes=labels,\n",
    "    _cm_normalize=True,\n",
    ")\n",
    "\n",
    "print_grid_search_attributes(svc_grid_results[\"model\"])"
   ]
  },
  {
   "cell_type": "markdown",
   "metadata": {},
   "source": [
    "RFE\n"
   ]
  },
  {
   "cell_type": "code",
   "execution_count": 73,
   "metadata": {},
   "outputs": [
    {
     "name": "stdout",
     "output_type": "stream",
     "text": [
      "Fitting 3 folds for each of 10 candidates, totalling 30 fits\n",
      "==> Train time:- 0:00:01.937027\n",
      "==> Test time:- 0:00:00.002973\n",
      "==> Accuracy:- 0.9484221241940957\n",
      "==> F1 Score:- 0.9481959950345098\n"
     ]
    },
    {
     "data": {
      "image/png": "[encoded data removed]",
      "text/plain": [
       "<Figure size 640x480 with 2 Axes>"
      ]
     },
     "metadata": {},
     "output_type": "display_data"
    },
    {
     "name": "stdout",
     "output_type": "stream",
     "text": [
      "==> Best parameters:\n",
      "\tParameters of best estimator : {'C': 4, 'penalty': 'l2'}\n",
      "==> No. of CrossValidation sets:\n",
      "\tTotal number of cross validation sets: 3\n",
      "==> Best Score:\n",
      "\tAverage Cross Validate scores of best estimator : 0.9601491547251295\n"
     ]
    }
   ],
   "source": [
    "svc_grid = GridSearchCV(\n",
    "    LinearSVC(), param_grid=svc_parameters, cv=3, verbose=1, n_jobs=-1\n",
    ")\n",
    "svc_grid_results = perform_model(\n",
    "    svc_grid,\n",
    "    X_train[svc_selected_features],\n",
    "    y_train,\n",
    "    X_test[svc_selected_features],\n",
    "    y_test,\n",
    "    classes=labels,\n",
    "    _cm_normalize=True,\n",
    "    _plot_cm=True,\n",
    ")\n",
    "\n",
    "print_grid_search_attributes(svc_grid_results[\"model\"])"
   ]
  },
  {
   "cell_type": "markdown",
   "metadata": {},
   "source": [
    "PCA\n"
   ]
  },
  {
   "cell_type": "code",
   "execution_count": 74,
   "metadata": {},
   "outputs": [
    {
     "name": "stdout",
     "output_type": "stream",
     "text": [
      "Fitting 3 folds for each of 10 candidates, totalling 30 fits\n",
      "==> Train time:- 0:00:04.171433\n",
      "==> Test time:- 0:00:00.004003\n",
      "==> Accuracy:- 0.9657278588394977\n",
      "==> F1 Score:- 0.9654694734302237\n",
      "==> Best parameters:\n",
      "\tParameters of best estimator : {'C': 1, 'penalty': 'l2'}\n",
      "==> No. of CrossValidation sets:\n",
      "\tTotal number of cross validation sets: 3\n",
      "==> Best Score:\n",
      "\tAverage Cross Validate scores of best estimator : 0.9432836798530101\n"
     ]
    }
   ],
   "source": [
    "pca_svc_grid = GridSearchCV(\n",
    "    LinearSVC(), param_grid=svc_parameters, cv=3, verbose=1, n_jobs=-1\n",
    ")\n",
    "pca_svc_grid_results = perform_model(\n",
    "    pca_svc_grid,\n",
    "    X_train_svc_pca,\n",
    "    y_train,\n",
    "    X_test_svc_pca,\n",
    "    y_test,\n",
    "    classes=labels,\n",
    "    _cm_normalize=True,\n",
    "    _plot_cm=False,\n",
    ")\n",
    "\n",
    "print_grid_search_attributes(pca_svc_grid_results[\"model\"])"
   ]
  },
  {
   "cell_type": "markdown",
   "metadata": {},
   "source": [
    "VT\n"
   ]
  },
  {
   "cell_type": "code",
   "execution_count": 75,
   "metadata": {},
   "outputs": [
    {
     "name": "stdout",
     "output_type": "stream",
     "text": [
      "Fitting 3 folds for each of 10 candidates, totalling 30 fits\n",
      "==> Train time:- 0:00:13.839662\n",
      "==> Test time:- 0:00:00.004999\n",
      "==> Accuracy:- 0.9684424838819138\n",
      "==> F1 Score:- 0.9682712389585675\n",
      "==> Best parameters:\n",
      "\tParameters of best estimator : {'C': 1, 'penalty': 'l2'}\n",
      "==> No. of CrossValidation sets:\n",
      "\tTotal number of cross validation sets: 3\n",
      "==> Best Score:\n",
      "\tAverage Cross Validate scores of best estimator : 0.9446435579535772\n"
     ]
    }
   ],
   "source": [
    "vt_svc_grid = GridSearchCV(\n",
    "    LinearSVC(), param_grid=svc_parameters, cv=3, verbose=1, n_jobs=-1\n",
    ")\n",
    "vt_svc_grid_results = perform_model(\n",
    "    vt_svc_grid,\n",
    "    X_train_vt,\n",
    "    y_train,\n",
    "    X_test_vt,\n",
    "    y_test,\n",
    "    classes=labels,\n",
    "    _cm_normalize=True,\n",
    "    _plot_cm=False,\n",
    ")\n",
    "\n",
    "print_grid_search_attributes(vt_svc_grid_results[\"model\"])"
   ]
  },
  {
   "cell_type": "markdown",
   "metadata": {},
   "source": [
    "RFE+PCA\n"
   ]
  },
  {
   "cell_type": "code",
   "execution_count": 76,
   "metadata": {},
   "outputs": [
    {
     "name": "stdout",
     "output_type": "stream",
     "text": [
      "Fitting 3 folds for each of 10 candidates, totalling 30 fits\n",
      "==> Train time:- 0:00:01.003157\n",
      "==> Test time:- 0:00:00.002001\n",
      "==> Accuracy:- 0.9531727180183237\n",
      "==> F1 Score:- 0.9528737199028197\n"
     ]
    },
    {
     "data": {
      "image/png": "[encoded data removed]",
      "text/plain": [
       "<Figure size 640x480 with 2 Axes>"
      ]
     },
     "metadata": {},
     "output_type": "display_data"
    },
    {
     "name": "stdout",
     "output_type": "stream",
     "text": [
      "==> Best parameters:\n",
      "\tParameters of best estimator : {'C': 1, 'penalty': 'l2'}\n",
      "==> No. of CrossValidation sets:\n",
      "\tTotal number of cross validation sets: 3\n",
      "==> Best Score:\n",
      "\tAverage Cross Validate scores of best estimator : 0.9591969403020286\n"
     ]
    }
   ],
   "source": [
    "rfepca_svc_grid = GridSearchCV(\n",
    "    LinearSVC(), param_grid=svc_parameters, cv=3, verbose=1, n_jobs=-1\n",
    ")\n",
    "rfepca_svc_grid_results = perform_model(\n",
    "    rfepca_svc_grid,\n",
    "    X_train_svc_rfepca,\n",
    "    y_train,\n",
    "    X_test_svc_rfepca,\n",
    "    y_test,\n",
    "    classes=labels,\n",
    "    _cm_normalize=True,\n",
    "    _plot_cm=True,\n",
    ")\n",
    "\n",
    "print_grid_search_attributes(rfepca_svc_grid_results[\"model\"])"
   ]
  },
  {
   "cell_type": "markdown",
   "metadata": {},
   "source": [
    "### Neural Networks\n"
   ]
  },
  {
   "cell_type": "code",
   "execution_count": 114,
   "metadata": {},
   "outputs": [],
   "source": [
    "nn_parameters = {\n",
    "    \"epochs\": [10, 25],\n",
    "    \"batch_size\": [32, 64],\n",
    "    \"optimizer\": [\"adam\"],\n",
    "    \"hidden_layer_dim\": [32, 64],\n",
    "}"
   ]
  },
  {
   "cell_type": "code",
   "execution_count": 115,
   "metadata": {},
   "outputs": [],
   "source": [
    "def create_model(hidden_layer_dim, meta):\n",
    "    n_features_in_ = meta[\"n_features_in_\"]\n",
    "    X_shape_ = meta[\"X_shape_\"]\n",
    "    n_classes_ = meta[\"n_classes_\"]\n",
    "    model = Sequential()\n",
    "    model.add(Dense(n_features_in_, input_shape=X_shape_[1:]))\n",
    "    model.add(Dropout(0.2))\n",
    "    model.add(Dense(hidden_layer_dim, activation=\"relu\"))\n",
    "    model.add(Dropout(0.2))\n",
    "    model.add(Dense(hidden_layer_dim / 2, activation=\"relu\"))\n",
    "    model.add(Dropout(0.2))\n",
    "    model.add(Dense(n_classes_, activation=\"softmax\"))\n",
    "    return model"
   ]
  },
  {
   "cell_type": "markdown",
   "metadata": {},
   "source": [
    "Base\n"
   ]
  },
  {
   "cell_type": "code",
   "execution_count": 116,
   "metadata": {},
   "outputs": [
    {
     "name": "stdout",
     "output_type": "stream",
     "text": [
      "Fitting 3 folds for each of 8 candidates, totalling 24 fits\n",
      "==> Train time:- 0:03:31.632716\n",
      "==> Test time:- 0:00:00.268839\n",
      "==> Accuracy:- 0.9406175771971497\n",
      "==> F1 Score:- 0.9405443017201277\n",
      "==> Best parameters:\n",
      "\tParameters of best estimator : {'batch_size': 32, 'epochs': 25, 'hidden_layer_dim': 64, 'optimizer': 'adam'}\n",
      "==> No. of CrossValidation sets:\n",
      "\tTotal number of cross validation sets: 3\n",
      "==> Best Score:\n",
      "\tAverage Cross Validate scores of best estimator : 0.9270966452676541\n"
     ]
    }
   ],
   "source": [
    "nn_grid = GridSearchCV(\n",
    "    KerasClassifier(\n",
    "        create_model,\n",
    "        loss=\"sparse_categorical_crossentropy\",\n",
    "        hidden_layer_dim=32,\n",
    "        verbose=0,\n",
    "    ),\n",
    "    param_grid=nn_parameters,\n",
    "    cv=3,\n",
    "    verbose=1,\n",
    "    n_jobs=-1,\n",
    ")\n",
    "nn_grid_results = perform_model(\n",
    "    nn_grid,\n",
    "    X_train,\n",
    "    y_train,\n",
    "    X_test,\n",
    "    y_test,\n",
    "    classes=labels,\n",
    "    _cm_normalize=True,\n",
    ")\n",
    "\n",
    "print_grid_search_attributes(nn_grid_results[\"model\"])"
   ]
  },
  {
   "cell_type": "markdown",
   "metadata": {},
   "source": [
    "RFE\n"
   ]
  },
  {
   "cell_type": "code",
   "execution_count": 117,
   "metadata": {},
   "outputs": [
    {
     "name": "stdout",
     "output_type": "stream",
     "text": [
      "Fitting 3 folds for each of 8 candidates, totalling 24 fits\n",
      "==> Train time:- 0:01:13.404032\n",
      "==> Test time:- 0:00:00.151244\n",
      "==> Accuracy:- 0.9514760773668137\n",
      "==> F1 Score:- 0.9514029387591983\n",
      "==> Best parameters:\n",
      "\tParameters of best estimator : {'batch_size': 64, 'epochs': 25, 'hidden_layer_dim': 32, 'optimizer': 'adam'}\n",
      "==> No. of CrossValidation sets:\n",
      "\tTotal number of cross validation sets: 3\n",
      "==> Best Score:\n",
      "\tAverage Cross Validate scores of best estimator : 0.9408327019098133\n"
     ]
    }
   ],
   "source": [
    "rfe_nn_grid = GridSearchCV(\n",
    "    KerasClassifier(\n",
    "        create_model,\n",
    "        loss=\"sparse_categorical_crossentropy\",\n",
    "        hidden_layer_dim=32,\n",
    "        verbose=0,\n",
    "    ),\n",
    "    param_grid=nn_parameters,\n",
    "    cv=3,\n",
    "    verbose=1,\n",
    "    n_jobs=-1,\n",
    ")\n",
    "rfe_nn_grid_results = perform_model(\n",
    "    rfe_nn_grid,\n",
    "    X_train[lr_selected_features],\n",
    "    y_train,\n",
    "    X_test[lr_selected_features],\n",
    "    y_test,\n",
    "    classes=labels,\n",
    "    _cm_normalize=True,\n",
    ")\n",
    "\n",
    "print_grid_search_attributes(rfe_nn_grid_results[\"model\"])"
   ]
  },
  {
   "cell_type": "markdown",
   "metadata": {},
   "source": [
    "PCA\n"
   ]
  },
  {
   "cell_type": "code",
   "execution_count": 118,
   "metadata": {},
   "outputs": [
    {
     "name": "stdout",
     "output_type": "stream",
     "text": [
      "Fitting 3 folds for each of 8 candidates, totalling 24 fits\n"
     ]
    },
    {
     "name": "stdout",
     "output_type": "stream",
     "text": [
      "==> Train time:- 0:00:39.848214\n",
      "==> Test time:- 0:00:00.135249\n",
      "==> Accuracy:- 0.9582626399728538\n",
      "==> F1 Score:- 0.958054356461851\n",
      "==> Best parameters:\n",
      "\tParameters of best estimator : {'batch_size': 64, 'epochs': 25, 'hidden_layer_dim': 32, 'optimizer': 'adam'}\n",
      "==> No. of CrossValidation sets:\n",
      "\tTotal number of cross validation sets: 3\n",
      "==> Best Score:\n",
      "\tAverage Cross Validate scores of best estimator : 0.9430112934606726\n"
     ]
    }
   ],
   "source": [
    "pca_nn_grid = GridSearchCV(\n",
    "    KerasClassifier(\n",
    "        create_model,\n",
    "        loss=\"sparse_categorical_crossentropy\",\n",
    "        hidden_layer_dim=32,\n",
    "        verbose=0,\n",
    "    ),\n",
    "    param_grid=nn_parameters,\n",
    "    cv=3,\n",
    "    verbose=1,\n",
    "    n_jobs=-1,\n",
    ")\n",
    "pca_nn_grid_results = perform_model(\n",
    "    pca_nn_grid,\n",
    "    X_train_lr_pca,\n",
    "    y_train,\n",
    "    X_test_lr_pca,\n",
    "    y_test,\n",
    "    classes=labels,\n",
    "    _cm_normalize=True,\n",
    ")\n",
    "\n",
    "print_grid_search_attributes(pca_nn_grid_results[\"model\"])"
   ]
  },
  {
   "cell_type": "markdown",
   "metadata": {},
   "source": [
    "VT\n"
   ]
  },
  {
   "cell_type": "code",
   "execution_count": 119,
   "metadata": {},
   "outputs": [
    {
     "name": "stdout",
     "output_type": "stream",
     "text": [
      "Fitting 3 folds for each of 8 candidates, totalling 24 fits\n",
      "==> Train time:- 0:01:49.838494\n",
      "==> Test time:- 0:00:00.151026\n",
      "==> Accuracy:- 0.9382422802850356\n",
      "==> F1 Score:- 0.9379762059390979\n",
      "==> Best parameters:\n",
      "\tParameters of best estimator : {'batch_size': 64, 'epochs': 25, 'hidden_layer_dim': 64, 'optimizer': 'adam'}\n",
      "==> No. of CrossValidation sets:\n",
      "\tTotal number of cross validation sets: 3\n",
      "==> Best Score:\n",
      "\tAverage Cross Validate scores of best estimator : 0.9353932450173051\n"
     ]
    }
   ],
   "source": [
    "vt_nn_grid = GridSearchCV(\n",
    "    KerasClassifier(\n",
    "        create_model,\n",
    "        loss=\"sparse_categorical_crossentropy\",\n",
    "        hidden_layer_dim=32,\n",
    "        verbose=0,\n",
    "    ),\n",
    "    param_grid=nn_parameters,\n",
    "    cv=3,\n",
    "    verbose=1,\n",
    "    n_jobs=-1,\n",
    ")\n",
    "vt_nn_grid_results = perform_model(\n",
    "    vt_nn_grid,\n",
    "    X_train_vt,\n",
    "    y_train,\n",
    "    X_test_vt,\n",
    "    y_test,\n",
    "    classes=labels,\n",
    "    _cm_normalize=True,\n",
    ")\n",
    "\n",
    "print_grid_search_attributes(vt_nn_grid_results[\"model\"])"
   ]
  },
  {
   "cell_type": "markdown",
   "metadata": {},
   "source": [
    "RFE + PCA\n"
   ]
  },
  {
   "cell_type": "code",
   "execution_count": 120,
   "metadata": {},
   "outputs": [
    {
     "name": "stdout",
     "output_type": "stream",
     "text": [
      "Fitting 3 folds for each of 8 candidates, totalling 24 fits\n"
     ]
    },
    {
     "name": "stdout",
     "output_type": "stream",
     "text": [
      "==> Train time:- 0:00:41.045713\n",
      "==> Test time:- 0:00:00.175497\n",
      "==> Accuracy:- 0.9575839837122497\n",
      "==> F1 Score:- 0.9575228450663047\n",
      "==> Best parameters:\n",
      "\tParameters of best estimator : {'batch_size': 32, 'epochs': 25, 'hidden_layer_dim': 32, 'optimizer': 'adam'}\n",
      "==> No. of CrossValidation sets:\n",
      "\tTotal number of cross validation sets: 3\n",
      "==> Best Score:\n",
      "\tAverage Cross Validate scores of best estimator : 0.9502203459923341\n"
     ]
    }
   ],
   "source": [
    "rfepca_nn_grid = GridSearchCV(\n",
    "    KerasClassifier(\n",
    "        create_model,\n",
    "        loss=\"sparse_categorical_crossentropy\",\n",
    "        hidden_layer_dim=32,\n",
    "        verbose=0,\n",
    "    ),\n",
    "    param_grid=nn_parameters,\n",
    "    cv=3,\n",
    "    verbose=1,\n",
    "    n_jobs=-1,\n",
    ")\n",
    "rfepca_nn_grid_results = perform_model(\n",
    "    rfepca_nn_grid,\n",
    "    X_train_lr_rfepca,\n",
    "    y_train,\n",
    "    X_test_lr_rfepca,\n",
    "    y_test,\n",
    "    classes=labels,\n",
    "    _cm_normalize=True,\n",
    ")\n",
    "\n",
    "print_grid_search_attributes(rfepca_nn_grid_results[\"model\"])"
   ]
  }
 ],
 "metadata": {
  "kernelspec": {
   "display_name": "Python 3",
   "language": "python",
   "name": "python3"
  },
  "language_info": {
   "codemirror_mode": {
    "name": "ipython",
    "version": 3
   },
   "file_extension": ".py",
   "mimetype": "text/x-python",
   "name": "python",
   "nbconvert_exporter": "python",
   "pygments_lexer": "ipython3",
   "version": "3.11.3"
  },
  "orig_nbformat": 4
 },
 "nbformat": 4,
 "nbformat_minor": 2
}
